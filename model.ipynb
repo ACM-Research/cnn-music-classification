{
 "cells": [
  {
   "cell_type": "code",
   "execution_count": null,
   "metadata": {},
   "outputs": [],
   "source": [
    "# Extract zip files\n",
    "import zipfile\n",
    "with zipfile.ZipFile('./acousticbrainz.zip', 'r') as zip:\n",
    "    zip.extractall('extracted')"
   ]
  },
  {
   "cell_type": "code",
   "execution_count": 6,
   "metadata": {},
   "outputs": [],
   "source": [
    "# Extract subfiles and move everything around to be more convenient\n",
    "import tarfile\n",
    "from os import listdir, mkdir, replace\n",
    "import bz2\n",
    "\n",
    "mkdir('./tsvs')\n",
    "for filename in listdir('./extracted'):\n",
    "    if '.tar.bz2' in filename:\n",
    "      tarfile.open('./extracted/' + filename).extractall('./train' if 'train' in filename else './validation')\n",
    "    elif 'tsv.bz2' in filename:\n",
    "      data = bz2.BZ2File('./extracted/' + filename).read()\n",
    "      open('./tsvs/' + filename[:-4], 'wb').write(data)\n",
    "    \n",
    "for folder in listdir('./train/acousticbrainz-mediaeval-train'):\n",
    "    for filename in listdir('./train/acousticbrainz-mediaeval-train/' + folder):\n",
    "        replace('./train/acousticbrainz-mediaeval-train/' + folder + '/' + filename, './train/' + filename)\n",
    "\n",
    "for folder in listdir('./validation/acousticbrainz-mediaeval-validation'):\n",
    "    for filename in listdir('./validation/acousticbrainz-mediaeval-validation/' + folder):\n",
    "        replace('./validation/acousticbrainz-mediaeval-validation/' + folder + '/' + filename, './validation/' + filename)"
   ]
  },
  {
   "cell_type": "code",
   "execution_count": 1,
   "metadata": {},
   "outputs": [
    {
     "name": "stdout",
     "output_type": "stream",
     "text": [
      "failed to load60444e32-3a4c-4323-a3af-4057f36e2c85\n"
     ]
    }
   ],
   "source": [
    "# Go through the data and preprocess it in into a usable form\n",
    "import json\n",
    "from os import listdir\n",
    "import numpy as np\n",
    "\n",
    "X_train = []\n",
    "y_train = []\n",
    "X_validation = []\n",
    "y_validation = []\n",
    "\n",
    "all_genres = set()\n",
    "\n",
    "def process_tsv(file_path, validation=False):\n",
    "    with open(file_path) as tsv:\n",
    "        tsv.readline()\n",
    "        while True:\n",
    "            line = tsv.readline()\n",
    "            if not line:\n",
    "                break\n",
    "            entries = line.split('\\t')\n",
    "            \n",
    "            genres = [genre for genre in entries[2:] if genre != '' and genre != '\\n']\n",
    "            for genre in genres:\n",
    "                all_genres.add(genre)\n",
    "            if not validation:\n",
    "                y_train.append(genres)\n",
    "            else:\n",
    "                y_validation.append(genres)\n",
    "\n",
    "            try:\n",
    "                with open(('./train/' if not validation else './validation/') + entries[0] + '.json') as file:\n",
    "                    song = json.load(file)\n",
    "                    if not validation:\n",
    "                        length = float(song['metadata']['audio_properties']['length'])\n",
    "                        X_train.append(length)\n",
    "                    else:\n",
    "                        length = float(song['metadata']['audio_properties']['length'])\n",
    "                        X_validation.append(length)\n",
    "            except:\n",
    "                print('failed to load' + entries[0])\n",
    "\n",
    "process_tsv('./tsvs/acousticbrainz-mediaeval-discogs-train.tsv')\n",
    "process_tsv('./tsvs/acousticbrainz-mediaeval-lastfm-train.tsv')\n",
    "process_tsv('./tsvs/acousticbrainz-mediaeval-tagtraum-train.tsv')\n",
    "process_tsv('./tsvs/acousticbrainz-mediaeval-discogs-validation.tsv', validation=True)\n",
    "process_tsv('./tsvs/acousticbrainz-mediaeval-lastfm-validation.tsv', validation=True)\n",
    "process_tsv('./tsvs/acousticbrainz-mediaeval-tagtraum-validation.tsv', validation=True)\n",
    "\n",
    "all_genres = list(all_genres) # contains all the genres and their indices\n",
    "for i, datapoint in enumerate(y_train):\n",
    "    processed_datapoint = []\n",
    "    for genre in all_genres:\n",
    "        processed_datapoint.append(int(genre in datapoint))\n",
    "    y_train[i] = processed_datapoint\n",
    "\n",
    "for i, datapoint in enumerate(y_validation):\n",
    "    processed_datapoint = []\n",
    "    for genre in all_genres:\n",
    "        processed_datapoint.append(int(genre in datapoint))\n",
    "    y_validation[i] = processed_datapoint\n",
    "\n",
    "X_train = np.asarray(X_train).astype(np.float64)\n",
    "X_validation = np.asarray(X_validation).astype(np.float64)"
   ]
  },
  {
   "cell_type": "code",
   "execution_count": 2,
   "metadata": {},
   "outputs": [
    {
     "name": "stderr",
     "output_type": "stream",
     "text": [
      "2022-04-04 01:31:27.150267: I tensorflow/stream_executor/cuda/cuda_gpu_executor.cc:936] successful NUMA node read from SysFS had negative value (-1), but there must be at least one NUMA node, so returning NUMA node zero\n",
      "2022-04-04 01:31:27.188710: I tensorflow/stream_executor/cuda/cuda_gpu_executor.cc:936] successful NUMA node read from SysFS had negative value (-1), but there must be at least one NUMA node, so returning NUMA node zero\n",
      "2022-04-04 01:31:27.188876: I tensorflow/stream_executor/cuda/cuda_gpu_executor.cc:936] successful NUMA node read from SysFS had negative value (-1), but there must be at least one NUMA node, so returning NUMA node zero\n",
      "2022-04-04 01:31:27.190421: I tensorflow/core/platform/cpu_feature_guard.cc:151] This TensorFlow binary is optimized with oneAPI Deep Neural Network Library (oneDNN) to use the following CPU instructions in performance-critical operations:  AVX2 FMA\n",
      "To enable them in other operations, rebuild TensorFlow with the appropriate compiler flags.\n"
     ]
    },
    {
     "name": "stdout",
     "output_type": "stream",
     "text": [
      "Model: \"model\"\n",
      "_________________________________________________________________\n",
      " Layer (type)                Output Shape              Param #   \n",
      "=================================================================\n",
      " input_1 (InputLayer)        [(None, 1)]               0         \n",
      "                                                                 \n",
      " dense (Dense)               (None, 1)                 2         \n",
      "                                                                 \n",
      "=================================================================\n",
      "Total params: 2\n",
      "Trainable params: 2\n",
      "Non-trainable params: 0\n",
      "_________________________________________________________________\n"
     ]
    },
    {
     "name": "stderr",
     "output_type": "stream",
     "text": [
      "2022-04-04 01:31:27.190915: I tensorflow/stream_executor/cuda/cuda_gpu_executor.cc:936] successful NUMA node read from SysFS had negative value (-1), but there must be at least one NUMA node, so returning NUMA node zero\n",
      "2022-04-04 01:31:27.191053: I tensorflow/stream_executor/cuda/cuda_gpu_executor.cc:936] successful NUMA node read from SysFS had negative value (-1), but there must be at least one NUMA node, so returning NUMA node zero\n",
      "2022-04-04 01:31:27.191169: I tensorflow/stream_executor/cuda/cuda_gpu_executor.cc:936] successful NUMA node read from SysFS had negative value (-1), but there must be at least one NUMA node, so returning NUMA node zero\n",
      "2022-04-04 01:31:27.668311: I tensorflow/stream_executor/cuda/cuda_gpu_executor.cc:936] successful NUMA node read from SysFS had negative value (-1), but there must be at least one NUMA node, so returning NUMA node zero\n",
      "2022-04-04 01:31:27.668508: I tensorflow/stream_executor/cuda/cuda_gpu_executor.cc:936] successful NUMA node read from SysFS had negative value (-1), but there must be at least one NUMA node, so returning NUMA node zero\n",
      "2022-04-04 01:31:27.668653: I tensorflow/stream_executor/cuda/cuda_gpu_executor.cc:936] successful NUMA node read from SysFS had negative value (-1), but there must be at least one NUMA node, so returning NUMA node zero\n",
      "2022-04-04 01:31:27.668964: I tensorflow/core/common_runtime/gpu/gpu_device.cc:1525] Created device /job:localhost/replica:0/task:0/device:GPU:0 with 2453 MB memory:  -> device: 0, name: NVIDIA GeForce GTX 960, pci bus id: 0000:09:00.0, compute capability: 5.2\n"
     ]
    }
   ],
   "source": [
    "# Define the model and give a summary\n",
    "from keras import layers\n",
    "from keras.models import Model\n",
    "\n",
    "length = layers.Input(shape=(1,))\n",
    "model = Model(length, layers.Dense(1, activation='relu')(length))\n",
    "model.compile(loss='binary_crossentropy', optimizer='adam', metrics=['accuracy'])\n",
    "\n",
    "model.summary()"
   ]
  },
  {
   "cell_type": "code",
   "execution_count": null,
   "metadata": {},
   "outputs": [],
   "source": [
    "# Train and save the model \n",
    "model.fit(X_train, y_train, batch_size=32, epochs=1, verbose=1, validation_data=(X_validation, y_validation))\n",
    "score = model.evaluate(X_validation, y_validation, verbose=1)\n",
    "print('Validation loss and accuracy:', score)\n",
    "model.save('trained_model')"
   ]
  }
 ],
 "metadata": {
  "interpreter": {
   "hash": "916dbcbb3f70747c44a77c7bcd40155683ae19c65e1c03b4aa3499c5328201f1"
  },
  "kernelspec": {
   "display_name": "Python 3.8.10 64-bit",
   "language": "python",
   "name": "python3"
  },
  "language_info": {
   "codemirror_mode": {
    "name": "ipython",
    "version": 3
   },
   "file_extension": ".py",
   "mimetype": "text/x-python",
   "name": "python",
   "nbconvert_exporter": "python",
   "pygments_lexer": "ipython3",
   "version": "3.8.10"
  },
  "orig_nbformat": 4
 },
 "nbformat": 4,
 "nbformat_minor": 2
}
