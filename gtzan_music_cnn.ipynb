{
  "nbformat": 4,
  "nbformat_minor": 0,
  "metadata": {
    "colab": {
      "name": "gtzan-music-cnn.ipynb",
      "provenance": []
    },
    "kernelspec": {
      "name": "python3",
      "display_name": "Python 3"
    },
    "language_info": {
      "name": "python"
    }
  },
  "cells": [
    {
      "cell_type": "code",
      "execution_count": 1,
      "metadata": {
        "id": "PF8mtj8Xs3-l"
      },
      "outputs": [],
      "source": [
        "import numpy as np\n",
        "import pandas as pd\n",
        "import os\n",
        "import json\n",
        "import librosa\n",
        "import matplotlib.pyplot as plt\n",
        "from sklearn.model_selection import train_test_split\n",
        "import tensorflow as tf"
      ]
    },
    {
      "cell_type": "code",
      "source": [
        "!apt install -y ffmpeg"
      ],
      "metadata": {
        "colab": {
          "base_uri": "https://localhost:8080/"
        },
        "id": "7qzhZn81zgbZ",
        "outputId": "9fedad89-1d8b-44d8-9d19-a3fe2f2f4c9a"
      },
      "execution_count": 2,
      "outputs": [
        {
          "output_type": "stream",
          "name": "stdout",
          "text": [
            "Reading package lists... Done\n",
            "Building dependency tree       \n",
            "Reading state information... Done\n",
            "ffmpeg is already the newest version (7:3.4.8-0ubuntu0.2).\n",
            "0 upgraded, 0 newly installed, 0 to remove and 39 not upgraded.\n"
          ]
        }
      ]
    },
    {
      "cell_type": "code",
      "source": [
        "SOURCE_PATH = \"drive/MyDrive/GTZAN/genres_original\"\n",
        "\n",
        "JSON_PATH = 'drive/MyDrive/data.json'\n",
        "\n",
        "sample_rate = 22050\n",
        "\n",
        "TOTAL_SAMPLES = 29 * sample_rate\n",
        "\n",
        "NUM_SLICES = 10\n",
        "SAMPLES_PER_SLICE = int(TOTAL_SAMPLES / NUM_SLICES)"
      ],
      "metadata": {
        "id": "7FTFKgpxzgkc"
      },
      "execution_count": 3,
      "outputs": []
    },
    {
      "cell_type": "code",
      "source": [
        "def preprocess_data(source_path, json_path):\n",
        "\n",
        "    mydict = {\n",
        "        \"labels\": [],\n",
        "        \"mfcc\": []\n",
        "        }\n",
        "\n",
        "    for i, (dirpath, dirnames, filenames) in enumerate(os.walk(source_path)):\n",
        "        for file in filenames:\n",
        "            # exclude corrupted wav file\n",
        "            if os.path.join(dirpath, file) != 'drive/MyDrive/music-classification-data/genres_original/jazz/jazz.00054.wav':\n",
        "                song, sr = librosa.load(os.path.join(dirpath, file), duration=29)\n",
        "                for s in range(NUM_SLICES):\n",
        "                    start_sample = SAMPLES_PER_SLICE * s\n",
        "                    end_sample = start_sample + SAMPLES_PER_SLICE\n",
        "                    mfcc = librosa.feature.mfcc(y=song[start_sample:end_sample], sr=sr, n_mfcc=13)\n",
        "                    mfcc = mfcc.T\n",
        "                    mydict[\"labels\"].append(i-1)\n",
        "                    mydict[\"mfcc\"].append(mfcc.tolist())\n",
        "   \n",
        "    with open(json_path, 'w') as f:\n",
        "        json.dump(mydict, f)\n",
        "    f.close()"
      ],
      "metadata": {
        "id": "d2wkiHftzgmM"
      },
      "execution_count": 4,
      "outputs": []
    },
    {
      "cell_type": "code",
      "source": [
        "def load_data(json_path):\n",
        "\n",
        "    with open(json_path, 'r') as f:\n",
        "        data = json.load(f)\n",
        "    f.close()\n",
        "\n",
        "    X = np.array(data[\"mfcc\"])\n",
        "    y = np.array(data[\"labels\"])\n",
        "\n",
        "    return X, y"
      ],
      "metadata": {
        "id": "VtH6KLNP1S0N"
      },
      "execution_count": 5,
      "outputs": []
    },
    {
      "cell_type": "code",
      "source": [
        "def prepare_datasets(inputs, targets, split_size):\n",
        "    \n",
        "    # Splitting sets\n",
        "    inputs_train, inputs_val, targets_train, targets_val = train_test_split(inputs, targets, test_size=split_size)\n",
        "    inputs_train, inputs_test, targets_train, targets_test = train_test_split(inputs_train, targets_train, test_size=split_size)\n",
        "    \n",
        "    # 3D input for CNN\n",
        "    inputs_train = inputs_train[..., np.newaxis]\n",
        "    inputs_val = inputs_val[..., np.newaxis]\n",
        "    inputs_test = inputs_test[..., np.newaxis]\n",
        "    \n",
        "    return inputs_train, inputs_val, inputs_test, targets_train, targets_val, targets_test"
      ],
      "metadata": {
        "id": "YTCpctck1S2T"
      },
      "execution_count": 6,
      "outputs": []
    },
    {
      "cell_type": "code",
      "source": [
        "def design_model(input_shape):\n",
        "\n",
        "    model = tf.keras.models.Sequential([\n",
        "        \n",
        "        tf.keras.layers.Conv2D(32, (3,3), activation='relu', input_shape=input_shape),\n",
        "        tf.keras.layers.MaxPooling2D((3,3), strides=(2,2), padding='same'),\n",
        "        tf.keras.layers.BatchNormalization(),\n",
        "        \n",
        "        tf.keras.layers.Conv2D(32, (3,3), activation='relu'),\n",
        "        tf.keras.layers.MaxPooling2D((3,3), strides=(2,2), padding='same'),\n",
        "        tf.keras.layers.BatchNormalization(),\n",
        "        \n",
        "        tf.keras.layers.Conv2D(32, (2,2), activation='relu'),\n",
        "        tf.keras.layers.MaxPooling2D((3,3), strides=(2,2), padding='same'),\n",
        "        tf.keras.layers.BatchNormalization(),\n",
        "        tf.keras.layers.Dropout(0.3),\n",
        "        \n",
        "        tf.keras.layers.Flatten(),\n",
        "        tf.keras.layers.Dense(64, activation='relu'), \n",
        "        tf.keras.layers.Dense(len(np.unique(targets)), activation='softmax')\n",
        "    ])\n",
        "\n",
        "    return model"
      ],
      "metadata": {
        "id": "_xaH6uPi1S35"
      },
      "execution_count": 7,
      "outputs": []
    },
    {
      "cell_type": "code",
      "source": [
        "if __name__ == \"__main__\":\n",
        "\n",
        "    # preprocess_data(source_path=SOURCE_PATH, json_path=JSON_PATH)\n",
        "    \n",
        "    inputs, targets = load_data(json_path=JSON_PATH)\n",
        "    \n",
        "    Xtrain, Xval, Xtest, ytrain, yval, ytest = prepare_datasets(inputs, targets, 0.2)\n",
        "\n",
        "    input_shape = (Xtrain.shape[1], Xtrain.shape[2], 1)\n",
        "    model = design_model(input_shape)\n",
        "\n",
        "    model.compile(optimizer = tf.keras.optimizers.RMSprop(lr=0.001),\n",
        "                     loss='sparse_categorical_crossentropy',\n",
        "                     metrics = ['acc']\n",
        "                     )\n",
        "\n",
        "    model.summary()\n",
        "\n",
        "    history = model.fit(Xtrain, ytrain,\n",
        "                        validation_data=(Xval, yval),\n",
        "                        epochs=25,\n",
        "                        batch_size=32\n",
        "                        )"
      ],
      "metadata": {
        "colab": {
          "base_uri": "https://localhost:8080/"
        },
        "id": "Z_DRrI0_1eJB",
        "outputId": "b8640752-a0a0-4aeb-8d5e-e48b511f00e3"
      },
      "execution_count": 8,
      "outputs": [
        {
          "output_type": "stream",
          "name": "stdout",
          "text": [
            "Model: \"sequential\"\n",
            "_________________________________________________________________\n",
            " Layer (type)                Output Shape              Param #   \n",
            "=================================================================\n",
            " conv2d (Conv2D)             (None, 123, 11, 32)       320       \n",
            "                                                                 \n",
            " max_pooling2d (MaxPooling2D  (None, 62, 6, 32)        0         \n",
            " )                                                               \n",
            "                                                                 \n",
            " batch_normalization (BatchN  (None, 62, 6, 32)        128       \n",
            " ormalization)                                                   \n",
            "                                                                 \n",
            " conv2d_1 (Conv2D)           (None, 60, 4, 32)         9248      \n",
            "                                                                 \n",
            " max_pooling2d_1 (MaxPooling  (None, 30, 2, 32)        0         \n",
            " 2D)                                                             \n",
            "                                                                 \n",
            " batch_normalization_1 (Batc  (None, 30, 2, 32)        128       \n",
            " hNormalization)                                                 \n",
            "                                                                 \n",
            " conv2d_2 (Conv2D)           (None, 29, 1, 32)         4128      \n",
            "                                                                 \n",
            " max_pooling2d_2 (MaxPooling  (None, 15, 1, 32)        0         \n",
            " 2D)                                                             \n",
            "                                                                 \n",
            " batch_normalization_2 (Batc  (None, 15, 1, 32)        128       \n",
            " hNormalization)                                                 \n",
            "                                                                 \n",
            " dropout (Dropout)           (None, 15, 1, 32)         0         \n",
            "                                                                 \n",
            " flatten (Flatten)           (None, 480)               0         \n",
            "                                                                 \n",
            " dense (Dense)               (None, 64)                30784     \n",
            "                                                                 \n",
            " dense_1 (Dense)             (None, 10)                650       \n",
            "                                                                 \n",
            "=================================================================\n",
            "Total params: 45,514\n",
            "Trainable params: 45,322\n",
            "Non-trainable params: 192\n",
            "_________________________________________________________________\n"
          ]
        },
        {
          "output_type": "stream",
          "name": "stderr",
          "text": [
            "/usr/local/lib/python3.7/dist-packages/keras/optimizer_v2/rmsprop.py:130: UserWarning: The `lr` argument is deprecated, use `learning_rate` instead.\n",
            "  super(RMSprop, self).__init__(name, **kwargs)\n"
          ]
        },
        {
          "output_type": "stream",
          "name": "stdout",
          "text": [
            "Epoch 1/25\n",
            "200/200 [==============================] - 15s 70ms/step - loss: 1.5725 - acc: 0.4510 - val_loss: 1.4319 - val_acc: 0.4850\n",
            "Epoch 2/25\n",
            "200/200 [==============================] - 18s 88ms/step - loss: 1.1462 - acc: 0.5906 - val_loss: 1.0645 - val_acc: 0.6086\n",
            "Epoch 3/25\n",
            "200/200 [==============================] - 13s 66ms/step - loss: 0.9752 - acc: 0.6574 - val_loss: 0.9472 - val_acc: 0.6617\n",
            "Epoch 4/25\n",
            "200/200 [==============================] - 13s 67ms/step - loss: 0.8584 - acc: 0.6931 - val_loss: 0.9176 - val_acc: 0.6737\n",
            "Epoch 5/25\n",
            "200/200 [==============================] - 13s 66ms/step - loss: 0.7724 - acc: 0.7249 - val_loss: 0.9902 - val_acc: 0.6707\n",
            "Epoch 6/25\n",
            "200/200 [==============================] - 14s 70ms/step - loss: 0.7103 - acc: 0.7463 - val_loss: 1.1052 - val_acc: 0.6376\n",
            "Epoch 7/25\n",
            "200/200 [==============================] - 14s 68ms/step - loss: 0.6495 - acc: 0.7719 - val_loss: 0.9296 - val_acc: 0.6827\n",
            "Epoch 8/25\n",
            "200/200 [==============================] - 14s 68ms/step - loss: 0.6074 - acc: 0.7896 - val_loss: 0.7852 - val_acc: 0.7332\n",
            "Epoch 9/25\n",
            "200/200 [==============================] - 13s 67ms/step - loss: 0.5727 - acc: 0.7965 - val_loss: 0.9282 - val_acc: 0.6997\n",
            "Epoch 10/25\n",
            "200/200 [==============================] - 14s 68ms/step - loss: 0.5318 - acc: 0.8142 - val_loss: 0.8648 - val_acc: 0.7297\n",
            "Epoch 11/25\n",
            "200/200 [==============================] - 13s 67ms/step - loss: 0.5103 - acc: 0.8190 - val_loss: 0.8709 - val_acc: 0.7092\n",
            "Epoch 12/25\n",
            "200/200 [==============================] - 14s 68ms/step - loss: 0.4819 - acc: 0.8272 - val_loss: 0.7863 - val_acc: 0.7568\n",
            "Epoch 13/25\n",
            "200/200 [==============================] - 14s 69ms/step - loss: 0.4562 - acc: 0.8417 - val_loss: 0.7914 - val_acc: 0.7342\n",
            "Epoch 14/25\n",
            "200/200 [==============================] - 14s 68ms/step - loss: 0.4197 - acc: 0.8511 - val_loss: 0.8163 - val_acc: 0.7442\n",
            "Epoch 15/25\n",
            "200/200 [==============================] - 14s 68ms/step - loss: 0.4020 - acc: 0.8581 - val_loss: 0.9007 - val_acc: 0.7252\n",
            "Epoch 16/25\n",
            "200/200 [==============================] - 14s 68ms/step - loss: 0.3880 - acc: 0.8605 - val_loss: 0.6933 - val_acc: 0.7698\n",
            "Epoch 17/25\n",
            "200/200 [==============================] - 13s 67ms/step - loss: 0.3772 - acc: 0.8692 - val_loss: 0.7305 - val_acc: 0.7673\n",
            "Epoch 18/25\n",
            "200/200 [==============================] - 14s 68ms/step - loss: 0.3646 - acc: 0.8699 - val_loss: 0.8071 - val_acc: 0.7558\n",
            "Epoch 19/25\n",
            "200/200 [==============================] - 13s 67ms/step - loss: 0.3382 - acc: 0.8780 - val_loss: 0.8512 - val_acc: 0.7467\n",
            "Epoch 20/25\n",
            "200/200 [==============================] - 14s 68ms/step - loss: 0.3212 - acc: 0.8864 - val_loss: 0.7918 - val_acc: 0.7633\n",
            "Epoch 21/25\n",
            "200/200 [==============================] - 14s 69ms/step - loss: 0.3265 - acc: 0.8838 - val_loss: 0.8752 - val_acc: 0.7447\n",
            "Epoch 22/25\n",
            "200/200 [==============================] - 14s 68ms/step - loss: 0.3146 - acc: 0.8896 - val_loss: 0.7404 - val_acc: 0.7733\n",
            "Epoch 23/25\n",
            "200/200 [==============================] - 14s 69ms/step - loss: 0.3072 - acc: 0.8982 - val_loss: 0.8542 - val_acc: 0.7352\n",
            "Epoch 24/25\n",
            "200/200 [==============================] - 14s 69ms/step - loss: 0.2936 - acc: 0.8955 - val_loss: 0.8909 - val_acc: 0.7633\n",
            "Epoch 25/25\n",
            "200/200 [==============================] - 13s 67ms/step - loss: 0.2819 - acc: 0.9040 - val_loss: 0.7532 - val_acc: 0.7813\n"
          ]
        }
      ]
    },
    {
      "cell_type": "code",
      "source": [
        "test_loss,test_acc=model.evaluate(Xtest,ytest,batch_size=128)\n",
        "print(\"The test loss is \",test_loss)\n",
        "print(\"The best accuracy is: \",test_acc*100)"
      ],
      "metadata": {
        "colab": {
          "base_uri": "https://localhost:8080/"
        },
        "id": "fnzTUsovfSSD",
        "outputId": "2d8acb48-9deb-4de2-8b57-049dd9316a43"
      },
      "execution_count": 9,
      "outputs": [
        {
          "output_type": "stream",
          "name": "stdout",
          "text": [
            "13/13 [==============================] - 1s 48ms/step - loss: 0.7053 - acc: 0.8024\n",
            "The test loss is  0.7053409814834595\n",
            "The best accuracy is:  80.23765087127686\n"
          ]
        }
      ]
    },
    {
      "cell_type": "code",
      "source": [
        "model.save('drive/MyDrive')"
      ],
      "metadata": {
        "colab": {
          "base_uri": "https://localhost:8080/"
        },
        "id": "EvNTfj7-3xpP",
        "outputId": "2f5a504c-3197-4681-fac9-cf98c7a138b7"
      },
      "execution_count": 13,
      "outputs": [
        {
          "output_type": "stream",
          "name": "stdout",
          "text": [
            "INFO:tensorflow:Assets written to: drive/MyDrive/assets\n"
          ]
        }
      ]
    }
  ]
}